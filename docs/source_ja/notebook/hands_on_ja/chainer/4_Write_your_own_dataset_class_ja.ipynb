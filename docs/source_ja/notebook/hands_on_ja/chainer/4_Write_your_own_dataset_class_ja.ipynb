{
  "nbformat": 4,
  "nbformat_minor": 0,
  "metadata": {
    "colab": {
      "name": "4-Write-your-own-dataset-class_ja.ipynb",
      "version": "0.3.2",
      "views": {},
      "default_view": {},
      "provenance": [],
      "collapsed_sections": []
    },
    "kernelspec": {
      "display_name": "Python [default]",
      "language": "python",
      "name": "python3"
    },
    "accelerator": "GPU"
  },
  "cells": [
    {
      "metadata": {
        "id": "zsNLdcH8cAXY",
        "colab_type": "text"
      },
      "cell_type": "markdown",
      "source": [
        "# データセットクラスを書いてみよう\n",
        "\n",
        "ここでは、Chainerにすでに用意されているCIFAR10のデータを取得する機能を使って、データセットクラスを自分で書いてみます。Chainerでは、データセットを表すクラスは以下の機能を持っていることが必要とされます。\n",
        "\n",
        "- データセット内のデータ数を返す`__len__`メソッド\n",
        "- 引数として渡される`i`に対応したデータもしくはデータとラベルの組を返す`get_example`メソッド\n",
        "\n",
        "その他のデータセットに必要な機能は、`chainer.dataset.DatasetMixin`クラスを継承することで用意できます。ここでは、`DatasetMixin`クラスを継承し、Data augmentation機能のついたデータセットクラスを作成してみましょう。"
      ]
    },
    {
      "metadata": {
        "id": "jaR1gPiiddUp",
        "colab_type": "code",
        "colab": {
          "autoexec": {
            "startup": false,
            "wait_interval": 0
          },
          "output_extras": [
            {
              "item_id": 7
            }
          ],
          "base_uri": "https://localhost:8080/",
          "height": 332
        },
        "outputId": "556de021-13d9-4f0a-9d8e-ac7377eca807",
        "executionInfo": {
          "status": "ok",
          "timestamp": 1518686837423,
          "user_tz": -540,
          "elapsed": 5229,
          "user": {
            "displayName": "keisuke umezawa",
            "photoUrl": "https://lh3.googleusercontent.com/a/default-user=s128",
            "userId": "103766488840000528829"
          }
        }
      },
      "cell_type": "code",
      "source": [
        "# Install Chainer and CuPy!\n",
        "\n",
        "!apt -y install libcusparse8.0 libnvrtc8.0 libnvtoolsext1\n",
        "!ln -snf /usr/lib/x86_64-linux-gnu/libnvrtc-builtins.so.8.0 /usr/lib/x86_64-linux-gnu/libnvrtc-builtins.so\n",
        "!pip install cupy-cuda80 chainer"
      ],
      "execution_count": 6,
      "outputs": [
        {
          "output_type": "stream",
          "text": [
            "Reading package lists... Done\n",
            "Building dependency tree       \n",
            "Reading state information... Done\n",
            "libcusparse8.0 is already the newest version (8.0.61-1).\n",
            "libnvrtc8.0 is already the newest version (8.0.61-1).\n",
            "libnvtoolsext1 is already the newest version (8.0.61-1).\n",
            "0 upgraded, 0 newly installed, 0 to remove and 1 not upgraded.\n",
            "Requirement already satisfied: cupy-cuda80==4.0.0b3 from https://github.com/kmaehashi/chainer-colab/releases/download/2018-02-06/cupy_cuda80-4.0.0b3-cp36-cp36m-linux_x86_64.whl in /usr/local/lib/python3.6/dist-packages\n",
            "Requirement already satisfied: numpy>=1.9.0 in /usr/local/lib/python3.6/dist-packages (from cupy-cuda80==4.0.0b3)\n",
            "Requirement already satisfied: six>=1.9.0 in /usr/local/lib/python3.6/dist-packages (from cupy-cuda80==4.0.0b3)\n",
            "Requirement already satisfied: fastrlock>=0.3 in /usr/local/lib/python3.6/dist-packages (from cupy-cuda80==4.0.0b3)\n",
            "Requirement already satisfied: chainer==4.0.0b3 in /usr/local/lib/python3.6/dist-packages\n",
            "Requirement already satisfied: filelock in /usr/local/lib/python3.6/dist-packages (from chainer==4.0.0b3)\n",
            "Requirement already satisfied: six>=1.9.0 in /usr/local/lib/python3.6/dist-packages (from chainer==4.0.0b3)\n",
            "Requirement already satisfied: protobuf>=3.0.0 in /usr/local/lib/python3.6/dist-packages (from chainer==4.0.0b3)\n",
            "Requirement already satisfied: numpy>=1.9.0 in /usr/local/lib/python3.6/dist-packages (from chainer==4.0.0b3)\n",
            "Requirement already satisfied: setuptools in /usr/lib/python3/dist-packages (from protobuf>=3.0.0->chainer==4.0.0b3)\n"
          ],
          "name": "stdout"
        }
      ]
    },
    {
      "metadata": {
        "id": "gEqtntemcAXZ",
        "colab_type": "text"
      },
      "cell_type": "markdown",
      "source": [
        "## 1. CIFAR10データセットクラスを書く"
      ]
    },
    {
      "metadata": {
        "id": "SjZKzj8ncAXa",
        "colab_type": "code",
        "colab": {
          "autoexec": {
            "startup": false,
            "wait_interval": 0
          }
        }
      },
      "cell_type": "code",
      "source": [
        "import numpy as np\n",
        "from chainer import dataset\n",
        "from chainer.datasets import cifar\n",
        "\n",
        "gpu_id = 0  # Set to -1 if you don't have a GPU\n",
        "\n",
        "class CIFAR10Augmented(dataset.DatasetMixin):\n",
        "\n",
        "    def __init__(self, train=True):\n",
        "        train_data, test_data = cifar.get_cifar10()\n",
        "        if train:\n",
        "            self.data = train_data\n",
        "        else:\n",
        "            self.data = test_data\n",
        "        self.train = train\n",
        "        self.random_crop = 4\n",
        "\n",
        "    def __len__(self):\n",
        "        return len(self.data)\n",
        "\n",
        "    def get_example(self, i):\n",
        "        x, t = self.data[i]\n",
        "        if self.train:\n",
        "            x = x.transpose(1, 2, 0)\n",
        "            h, w, _ = x.shape\n",
        "            x_offset = np.random.randint(self.random_crop)\n",
        "            y_offset = np.random.randint(self.random_crop)\n",
        "            x = x[y_offset:y_offset + h - self.random_crop,\n",
        "                  x_offset:x_offset + w - self.random_crop]\n",
        "            if np.random.rand() > 0.5:\n",
        "                x = np.fliplr(x)\n",
        "            x = x.transpose(2, 0, 1)\n",
        "        return x, t"
      ],
      "execution_count": 0,
      "outputs": []
    },
    {
      "metadata": {
        "id": "e_fy2og2cAXd",
        "colab_type": "text"
      },
      "cell_type": "markdown",
      "source": [
        "このクラスは、CIFAR10のデータのそれぞれに対し、\n",
        "\n",
        "- 32x32の大きさの中からランダムに28x28の領域をクロップ\n",
        "- 1/2の確率で左右を反転させる\n",
        "\n",
        "という加工を行っています。こういった操作を加えることで擬似的に学習データのバリエーションを増やすと、オーバーフィッティングを抑制することに役に立つということが知られています。これらの操作以外にも、画像の色味を変化させるような変換やランダムな回転、アフィン変換など、さまざまな加工によって学習データ数を擬似的に増やす方法が提案されています。"
      ]
    },
    {
      "metadata": {
        "id": "bEF3xvjPcAXd",
        "colab_type": "text"
      },
      "cell_type": "markdown",
      "source": [
        "## 2. 作成したデータセットクラスを使って学習を行う\n",
        "\n",
        "それではさっそくこの`CIFAR10`クラスを使って学習を行ってみましょう。先程使ったのと同じ大きなネットワークを使うことで、Data augmentationの効果がどの程度あるのかを調べてみましょう。`train`関数も含め、データセットクラス以外は先程使用したコードとほぼ同じになっています。異なるところはエポック数と、保存先ディレクトリ名だけです。"
      ]
    },
    {
      "metadata": {
        "id": "aPMPYd-_cAXe",
        "colab_type": "code",
        "colab": {
          "autoexec": {
            "startup": false,
            "wait_interval": 0
          },
          "output_extras": [
            {
              "item_id": 31
            }
          ],
          "base_uri": "https://localhost:8080/",
          "height": 554
        },
        "outputId": "70be6d82-79bb-4f65-fc30-a87b962fcacc",
        "executionInfo": {
          "status": "ok",
          "timestamp": 1518688150973,
          "user_tz": -540,
          "elapsed": 1312881,
          "user": {
            "displayName": "keisuke umezawa",
            "photoUrl": "https://lh3.googleusercontent.com/a/default-user=s128",
            "userId": "103766488840000528829"
          }
        }
      },
      "cell_type": "code",
      "source": [
        "import chainer\n",
        "import chainer.functions as F\n",
        "import chainer.links as L\n",
        "from chainer.datasets import cifar\n",
        "from chainer import iterators\n",
        "from chainer import optimizers\n",
        "from chainer import training\n",
        "from chainer.training import extensions\n",
        "\n",
        "class ConvBlock(chainer.Chain):\n",
        "    \n",
        "    def __init__(self, n_ch, pool_drop=False):\n",
        "        w = chainer.initializers.HeNormal()\n",
        "        super(ConvBlock, self).__init__()\n",
        "        with self.init_scope():\n",
        "            self.conv = L.Convolution2D(None, n_ch, 3, 1, 1,\n",
        "                                 nobias=True, initialW=w)\n",
        "            self.bn = L.BatchNormalization(n_ch)\n",
        "        \n",
        "        \n",
        "        self.pool_drop = pool_drop\n",
        "        \n",
        "    def __call__(self, x):\n",
        "        h = F.relu(self.bn(self.conv(x)))\n",
        "        if self.pool_drop:\n",
        "            h = F.max_pooling_2d(h, 2, 2)\n",
        "            h = F.dropout(h, ratio=0.25)\n",
        "        return h\n",
        "\n",
        "class LinearBlock(chainer.Chain):\n",
        "    \n",
        "    def __init__(self):\n",
        "        w = chainer.initializers.HeNormal()\n",
        "        super(LinearBlock, self).__init__()\n",
        "        with self.init_scope():\n",
        "            self.fc = L.Linear(None, 1024, initialW=w)\n",
        "        \n",
        "    def __call__(self, x):\n",
        "        return F.dropout(F.relu(self.fc(x)), ratio=0.5)\n",
        "    \n",
        "class DeepCNN(chainer.ChainList):\n",
        "\n",
        "    def __init__(self, n_output):\n",
        "        super(DeepCNN, self).__init__(\n",
        "            ConvBlock(64),\n",
        "            ConvBlock(64, True),\n",
        "            ConvBlock(128),\n",
        "            ConvBlock(128, True),\n",
        "            ConvBlock(256),\n",
        "            ConvBlock(256, True),\n",
        "            LinearBlock(),\n",
        "            LinearBlock(),\n",
        "            L.Linear(None, n_output)\n",
        "        )\n",
        "        \n",
        "    def __call__(self, x):\n",
        "        for f in self.children():\n",
        "            x = f(x)\n",
        "        return x\n",
        "\n",
        "def train(model_object, batchsize=64, gpu_id=gpu_id, max_epoch=20):\n",
        "\n",
        "    # 1. Dataset\n",
        "    train, test = CIFAR10Augmented(), CIFAR10Augmented(False)\n",
        "\n",
        "    # 2. Iterator\n",
        "    train_iter = iterators.SerialIterator(train, batchsize)\n",
        "    test_iter = iterators.SerialIterator(test, batchsize, False, False)\n",
        "\n",
        "    # 3. Model\n",
        "    model = L.Classifier(model_object)\n",
        "    if gpu_id >= 0:\n",
        "            model.to_gpu(gpu_id)\n",
        "\n",
        "    # 4. Optimizer\n",
        "    optimizer = optimizers.Adam()\n",
        "    optimizer.setup(model)\n",
        "\n",
        "    # 5. Updater\n",
        "    updater = training.StandardUpdater(train_iter, optimizer, device=gpu_id)\n",
        "\n",
        "    # 6. Trainer\n",
        "    trainer = training.Trainer(updater, (max_epoch, 'epoch'), out='{}_cifar10augmented_result'.format(model_object.__class__.__name__))\n",
        "\n",
        "    # 7. Evaluator\n",
        "\n",
        "    class TestModeEvaluator(extensions.Evaluator):\n",
        "\n",
        "        def evaluate(self):\n",
        "            model = self.get_target('main')\n",
        "            ret = super(TestModeEvaluator, self).evaluate()\n",
        "            return ret\n",
        "\n",
        "    trainer.extend(extensions.LogReport())\n",
        "    trainer.extend(TestModeEvaluator(test_iter, model, device=gpu_id))\n",
        "    trainer.extend(extensions.PrintReport(['epoch', 'main/loss', 'main/accuracy', 'validation/main/loss', 'validation/main/accuracy', 'elapsed_time']))\n",
        "    trainer.extend(extensions.PlotReport(['main/loss', 'validation/main/loss'], x_key='epoch', file_name='loss.png'))\n",
        "    trainer.extend(extensions.PlotReport(['main/accuracy', 'validation/main/accuracy'], x_key='epoch', file_name='accuracy.png'))\n",
        "    trainer.run()\n",
        "    del trainer\n",
        "    \n",
        "    return model\n",
        "    \n",
        "model = train(DeepCNN(10), gpu_id=gpu_id, max_epoch=30)"
      ],
      "execution_count": 8,
      "outputs": [
        {
          "output_type": "stream",
          "text": [
            "epoch       main/loss   main/accuracy  validation/main/loss  validation/main/accuracy  elapsed_time\n",
            "\u001b[J1           1.87873     0.317655       1.41017               0.461584                  43.0925       \n",
            "\u001b[J2           1.43628     0.473151       1.25639               0.578921                  86.7953       \n",
            "\u001b[J3           1.19476     0.575504       1.27879               0.557623                  130.447       \n",
            "\u001b[J4           1.05327     0.633923       0.920516              0.716959                  174.113       \n",
            "\u001b[J5           0.942941    0.674572       0.847574              0.732982                  217.801       \n",
            "\u001b[J6           0.863269    0.707166       0.774688              0.774383                  261.448       \n",
            "\u001b[J7           0.795316    0.733335       0.770755              0.744725                  305.051       \n",
            "\u001b[J8           0.732246    0.756502       0.672005              0.788217                  348.63        \n",
            "\u001b[J9           0.658229    0.78175        0.60823               0.800657                  392.607       \n",
            "\u001b[J10          0.620366    0.796595       0.542999              0.823945                  436.252       \n",
            "\u001b[J11          0.568625    0.81404        0.532844              0.826732                  479.816       \n",
            "\u001b[J12          0.536098    0.824744       0.477152              0.839968                  523.43        \n",
            "\u001b[J13          0.512311    0.831142       0.478048              0.843252                  567.054       \n",
            "\u001b[J14          0.483736    0.838788       0.47303               0.844049                  610.678       \n",
            "\u001b[J15          0.465534    0.849072       0.442802              0.854001                  654.255       \n",
            "\u001b[J16          0.444883    0.852273       0.392554              0.869228                  697.904       \n",
            "\u001b[J17          0.429       0.856338       0.429641              0.861565                  741.537       \n",
            "\u001b[J18          0.408273    0.865097       0.440374              0.857086                  785.204       \n",
            "\u001b[J19          0.403246    0.866217       0.418159              0.867735                  828.751       \n",
            "\u001b[J20          0.388374    0.872459       0.393507              0.866143                  872.362       \n",
            "\u001b[J21          0.380001    0.87456        0.364329              0.878085                  916.022       \n",
            "\u001b[J22          0.365747    0.879641       0.379309              0.87719                   959.659       \n",
            "\u001b[J23          0.362353    0.879942       0.355099              0.882066                  1003.22       \n",
            "\u001b[J24          0.346441    0.883223       0.364648              0.880872                  1046.85       \n",
            "\u001b[J25          0.338196    0.886429       0.365067              0.879877                  1090.47       \n",
            "\u001b[J26          0.328532    0.890805       0.379086              0.879976                  1134.01       \n",
            "\u001b[J27          0.326322    0.891525       0.359655              0.880175                  1177.64       \n",
            "\u001b[J28          0.311479    0.896507       0.347969              0.88744                   1221.18       \n",
            "\u001b[J29          0.312296    0.896459       0.342133              0.886346                  1264.76       \n",
            "\u001b[J30          0.303162    0.899728       0.391514              0.880872                  1308.4        \n"
          ],
          "name": "stdout"
        }
      ]
    },
    {
      "metadata": {
        "id": "7OGGrnVIcAXk",
        "colab_type": "text"
      },
      "cell_type": "markdown",
      "source": [
        "先程のData augmentationなしの場合は87%程度で頭打ちになっていた精度が、学習データにaugmentationを施すことで88%以上まで向上させられることが分かりました。1%強の改善です。\n",
        "\n",
        "最後に、ロスと精度のグラフを見てみましょう。"
      ]
    },
    {
      "metadata": {
        "id": "fWL0Pv-ecAXl",
        "colab_type": "code",
        "colab": {
          "autoexec": {
            "startup": false,
            "wait_interval": 0
          },
          "output_extras": [
            {
              "item_id": 1
            }
          ],
          "base_uri": "https://localhost:8080/",
          "height": 361
        },
        "outputId": "ec392778-c88e-4b6d-ae68-98d837d96d57",
        "executionInfo": {
          "status": "ok",
          "timestamp": 1518688151862,
          "user_tz": -540,
          "elapsed": 870,
          "user": {
            "displayName": "keisuke umezawa",
            "photoUrl": "https://lh3.googleusercontent.com/a/default-user=s128",
            "userId": "103766488840000528829"
          }
        }
      },
      "cell_type": "code",
      "source": [
        "from IPython.display import Image\n",
        "Image(filename='DeepCNN_cifar10augmented_result/loss.png')"
      ],
      "execution_count": 9,
      "outputs": [
        {
          "output_type": "execute_result",
          "data": {
            "image/png": "[encoded data removed]",
            "text/plain": [
              "<IPython.core.display.Image object>"
            ]
          },
          "metadata": {
            "tags": []
          },
          "execution_count": 9
        }
      ]
    },
    {
      "metadata": {
        "id": "yKRPqkvFcAXo",
        "colab_type": "code",
        "colab": {
          "autoexec": {
            "startup": false,
            "wait_interval": 0
          },
          "output_extras": [
            {
              "item_id": 1
            }
          ],
          "base_uri": "https://localhost:8080/",
          "height": 361
        },
        "outputId": "d6fd3a78-ff0e-408c-bdeb-e031ed89776e",
        "executionInfo": {
          "status": "ok",
          "timestamp": 1518688152870,
          "user_tz": -540,
          "elapsed": 883,
          "user": {
            "displayName": "keisuke umezawa",
            "photoUrl": "https://lh3.googleusercontent.com/a/default-user=s128",
            "userId": "103766488840000528829"
          }
        }
      },
      "cell_type": "code",
      "source": [
        "Image(filename='DeepCNN_cifar10augmented_result/accuracy.png')"
      ],
      "execution_count": 10,
      "outputs": [
        {
          "output_type": "execute_result",
          "data": {
            "image/png": "[encoded data removed]",
            "text/plain": [
              "<IPython.core.display.Image object>"
            ]
          },
          "metadata": {
            "tags": []
          },
          "execution_count": 10
        }
      ]
    }
  ]
}

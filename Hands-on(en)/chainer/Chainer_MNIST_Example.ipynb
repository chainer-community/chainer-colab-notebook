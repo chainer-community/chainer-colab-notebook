{
  "nbformat": 4,
  "nbformat_minor": 0,
  "metadata": {
    "colab": {
      "name": "Chainer MNIST Example.ipynb",
      "version": "0.3.2",
      "views": {},
      "default_view": {},
      "provenance": [
        {
          "file_id": "1SsxHvQdSz23kaVov8yKizVD3_2tkXdZM",
          "timestamp": 1518265760351
        }
      ],
      "collapsed_sections": []
    },
    "kernelspec": {
      "name": "python3",
      "display_name": "Python 3"
    },
    "accelerator": "GPU"
  },
  "cells": [
    {
      "metadata": {
        "id": "9Q3LQxIdVsOB",
        "colab_type": "code",
        "colab": {
          "autoexec": {
            "startup": false,
            "wait_interval": 0
          },
          "output_extras": [
            {
              "item_id": 7
            }
          ],
          "base_uri": "https://localhost:8080/",
          "height": 343
        },
        "outputId": "4dcaf403-737c-4985-8e67-d7aa23569ef1",
        "executionInfo": {
          "status": "ok",
          "timestamp": 1519201913678,
          "user_tz": -540,
          "elapsed": 5301,
          "user": {
            "displayName": "keisuke umezawa",
            "photoUrl": "//lh6.googleusercontent.com/-u6F5UlpmAEA/AAAAAAAAAAI/AAAAAAAAw70/15hRxmPvJeM/s50-c-k-no/photo.jpg",
            "userId": "103766488840000528829"
          }
        }
      },
      "cell_type": "code",
      "source": [
        "# Install Chainer and CuPy!\n",
        "\n",
        "!apt -y install libcusparse8.0 libnvrtc8.0 libnvtoolsext1\n",
        "!ln -snf /usr/lib/x86_64-linux-gnu/libnvrtc-builtins.so.8.0 /usr/lib/x86_64-linux-gnu/libnvrtc-builtins.so\n",
        "!pip install cupy-cuda80 chainer"
      ],
      "execution_count": 11,
      "outputs": [
        {
          "output_type": "stream",
          "text": [
            "Reading package lists... Done\n",
            "Building dependency tree       \n",
            "Reading state information... Done\n",
            "libcusparse8.0 is already the newest version (8.0.61-1).\n",
            "libnvrtc8.0 is already the newest version (8.0.61-1).\n",
            "libnvtoolsext1 is already the newest version (8.0.61-1).\n",
            "0 upgraded, 0 newly installed, 0 to remove and 1 not upgraded.\n",
            "Requirement already satisfied: cupy-cuda80==4.0.0b3 from https://github.com/kmaehashi/chainer-colab/releases/download/2018-02-06/cupy_cuda80-4.0.0b3-cp36-cp36m-linux_x86_64.whl in /usr/local/lib/python3.6/dist-packages\n",
            "Requirement already satisfied: numpy>=1.9.0 in /usr/local/lib/python3.6/dist-packages (from cupy-cuda80==4.0.0b3)\n",
            "Requirement already satisfied: six>=1.9.0 in /usr/local/lib/python3.6/dist-packages (from cupy-cuda80==4.0.0b3)\n",
            "Requirement already satisfied: fastrlock>=0.3 in /usr/local/lib/python3.6/dist-packages (from cupy-cuda80==4.0.0b3)\n",
            "Requirement already satisfied: chainer==4.0.0b3 in /usr/local/lib/python3.6/dist-packages\n",
            "Requirement already satisfied: filelock in /usr/local/lib/python3.6/dist-packages (from chainer==4.0.0b3)\n",
            "Requirement already satisfied: protobuf>=3.0.0 in /usr/local/lib/python3.6/dist-packages (from chainer==4.0.0b3)\n",
            "Requirement already satisfied: six>=1.9.0 in /usr/local/lib/python3.6/dist-packages (from chainer==4.0.0b3)\n",
            "Requirement already satisfied: numpy>=1.9.0 in /usr/local/lib/python3.6/dist-packages (from chainer==4.0.0b3)\n",
            "Requirement already satisfied: setuptools in /usr/lib/python3/dist-packages (from protobuf>=3.0.0->chainer==4.0.0b3)\n"
          ],
          "name": "stdout"
        }
      ]
    },
    {
      "metadata": {
        "id": "uDxs3PByzjhr",
        "colab_type": "code",
        "colab": {
          "autoexec": {
            "startup": false,
            "wait_interval": 0
          }
        }
      },
      "cell_type": "code",
      "source": [
        "import numpy as np\n",
        "import chainer\n",
        "from chainer import cuda, Function, gradient_check, report, training, utils, Variable\n",
        "from chainer import datasets, iterators, optimizers, serializers\n",
        "from chainer import Link, Chain, ChainList\n",
        "import chainer.functions as F\n",
        "import chainer.links as L\n",
        "from chainer.training import extensions\n",
        "from chainer.datasets import mnist"
      ],
      "execution_count": 0,
      "outputs": []
    },
    {
      "metadata": {
        "id": "1JQVbTdLJ2JB",
        "colab_type": "code",
        "colab": {
          "autoexec": {
            "startup": false,
            "wait_interval": 0
          },
          "output_extras": [
            {
              "item_id": 1
            }
          ],
          "base_uri": "https://localhost:8080/",
          "height": 53
        },
        "outputId": "05bd0ae4-ccbf-402b-84c3-1a0d45a8da98",
        "executionInfo": {
          "status": "ok",
          "timestamp": 1519201915035,
          "user_tz": -540,
          "elapsed": 608,
          "user": {
            "displayName": "keisuke umezawa",
            "photoUrl": "//lh6.googleusercontent.com/-u6F5UlpmAEA/AAAAAAAAAAI/AAAAAAAAw70/15hRxmPvJeM/s50-c-k-no/photo.jpg",
            "userId": "103766488840000528829"
          }
        }
      },
      "cell_type": "code",
      "source": [
        "print('GPU availability:', chainer.cuda.available)\n",
        "print('cuDNN availablility:', chainer.cuda.cudnn_enabled)"
      ],
      "execution_count": 13,
      "outputs": [
        {
          "output_type": "stream",
          "text": [
            "GPU availability: True\n",
            "cuDNN availablility: True\n"
          ],
          "name": "stdout"
        }
      ]
    },
    {
      "metadata": {
        "id": "ONfS74LHGkBS",
        "colab_type": "code",
        "colab": {
          "autoexec": {
            "startup": false,
            "wait_interval": 0
          }
        }
      },
      "cell_type": "code",
      "source": [
        "train, test = mnist.get_mnist()\n",
        "\n",
        "batchsize = 128\n",
        "\n",
        "train_iter = iterators.SerialIterator(train, batchsize)\n",
        "test_iter = iterators.SerialIterator(test, batchsize, False, False)"
      ],
      "execution_count": 0,
      "outputs": []
    },
    {
      "metadata": {
        "id": "JZFHYARDGp7y",
        "colab_type": "code",
        "colab": {
          "autoexec": {
            "startup": false,
            "wait_interval": 0
          }
        }
      },
      "cell_type": "code",
      "source": [
        "class MLP(Chain):\n",
        "\n",
        "    def __init__(self, n_mid_units=100, n_out=10):\n",
        "        super(MLP, self).__init__()\n",
        "        with self.init_scope():\n",
        "            self.l1 = L.Linear(None, n_mid_units)\n",
        "            self.l2 = L.Linear(None, n_mid_units)\n",
        "            self.l3 = L.Linear(None, n_out)\n",
        "\n",
        "    def __call__(self, x):\n",
        "        h1 = F.relu(self.l1(x))\n",
        "        h2 = F.relu(self.l2(h1))\n",
        "        return self.l3(h2)\n",
        "\n",
        "model = MLP()"
      ],
      "execution_count": 0,
      "outputs": []
    },
    {
      "metadata": {
        "id": "km_YaPIfG5HN",
        "colab_type": "code",
        "colab": {
          "autoexec": {
            "startup": false,
            "wait_interval": 0
          }
        }
      },
      "cell_type": "code",
      "source": [
        "max_epoch = 10\n",
        "\n",
        "model = L.Classifier(model)\n",
        "\n",
        "gpu_id = 0  # Set to -1 if you use CPU\n",
        "if gpu_id >= 0:\n",
        "    model.to_gpu(gpu_id)  # If you use CPU, comment out this line\n",
        "\n",
        "# selection of your optimizing method\n",
        "optimizer = optimizers.MomentumSGD()\n",
        "\n",
        "# Give the optimizer a reference to the model\n",
        "optimizer.setup(model)\n",
        "\n",
        "# Get an updater that uses the Iterator and Optimizer\n",
        "updater = training.StandardUpdater(train_iter, optimizer, device=gpu_id)\n",
        "\n",
        "# Setup a Trainer\n",
        "trainer = training.Trainer(updater, (max_epoch, 'epoch'), out='mnist_result')"
      ],
      "execution_count": 0,
      "outputs": []
    },
    {
      "metadata": {
        "id": "MdkorboDHEOR",
        "colab_type": "code",
        "colab": {
          "autoexec": {
            "startup": false,
            "wait_interval": 0
          }
        }
      },
      "cell_type": "code",
      "source": [
        "trainer.extend(extensions.LogReport())\n",
        "trainer.extend(extensions.snapshot(filename='snapshot_epoch-{.updater.epoch}'))\n",
        "trainer.extend(extensions.snapshot_object(model.predictor, filename='model_epoch-{.updater.epoch}'))\n",
        "trainer.extend(extensions.Evaluator(test_iter, model, device=gpu_id))\n",
        "trainer.extend(extensions.PrintReport(['epoch', 'main/loss', 'main/accuracy', 'validation/main/loss', 'validation/main/accuracy', 'elapsed_time']))\n",
        "trainer.extend(extensions.PlotReport(['main/loss', 'validation/main/loss'], x_key='epoch', file_name='loss.png'))\n",
        "trainer.extend(extensions.PlotReport(['main/accuracy', 'validation/main/accuracy'], x_key='epoch', file_name='accuracy.png'))\n",
        "trainer.extend(extensions.dump_graph('main/loss'))"
      ],
      "execution_count": 0,
      "outputs": []
    },
    {
      "metadata": {
        "id": "OJZSdANJHGVO",
        "colab_type": "code",
        "colab": {
          "autoexec": {
            "startup": false,
            "wait_interval": 0
          },
          "output_extras": [
            {
              "item_id": 11
            }
          ],
          "base_uri": "https://localhost:8080/",
          "height": 215
        },
        "outputId": "fed87492-354b-44fd-8386-b13126e61223",
        "executionInfo": {
          "status": "ok",
          "timestamp": 1519201952279,
          "user_tz": -540,
          "elapsed": 34076,
          "user": {
            "displayName": "keisuke umezawa",
            "photoUrl": "//lh6.googleusercontent.com/-u6F5UlpmAEA/AAAAAAAAAAI/AAAAAAAAw70/15hRxmPvJeM/s50-c-k-no/photo.jpg",
            "userId": "103766488840000528829"
          }
        }
      },
      "cell_type": "code",
      "source": [
        "trainer.run()"
      ],
      "execution_count": 18,
      "outputs": [
        {
          "output_type": "stream",
          "text": [
            "epoch       main/loss   main/accuracy  validation/main/loss  validation/main/accuracy  elapsed_time\n",
            "\u001b[J1           0.561374    0.836487       0.253428              0.926622                  2.86607       \n",
            "\u001b[J2           0.230985    0.933186       0.185004              0.9464                    6.24812       \n",
            "\u001b[J3           0.175398    0.949594       0.152705              0.954213                  9.56626       \n",
            "\u001b[J4           0.14344     0.958383       0.140589              0.956586                  12.9332       \n",
            "\u001b[J5           0.121017    0.965152       0.114424              0.964794                  16.2746       \n",
            "\u001b[J6           0.103187    0.970183       0.104435              0.96875                   19.686        \n",
            "\u001b[J7           0.0910037   0.973664       0.0984309             0.969541                  23.0432       \n",
            "\u001b[J8           0.0803472   0.976529       0.101964              0.967761                  26.3992       \n",
            "\u001b[J9           0.0715275   0.979011       0.0918814             0.970926                  29.7507       \n",
            "\u001b[J10          0.0651606   0.981027       0.0872698             0.973794                  33.1533       \n"
          ],
          "name": "stdout"
        }
      ]
    },
    {
      "metadata": {
        "id": "6_jV6t2wHkPA",
        "colab_type": "code",
        "colab": {
          "autoexec": {
            "startup": false,
            "wait_interval": 0
          },
          "output_extras": [
            {
              "item_id": 1
            }
          ],
          "base_uri": "https://localhost:8080/",
          "height": 361
        },
        "outputId": "0c5d2625-c119-4d6f-a1c5-fdc57ad8dc2f",
        "executionInfo": {
          "status": "ok",
          "timestamp": 1519201953093,
          "user_tz": -540,
          "elapsed": 799,
          "user": {
            "displayName": "keisuke umezawa",
            "photoUrl": "//lh6.googleusercontent.com/-u6F5UlpmAEA/AAAAAAAAAAI/AAAAAAAAw70/15hRxmPvJeM/s50-c-k-no/photo.jpg",
            "userId": "103766488840000528829"
          }
        }
      },
      "cell_type": "code",
      "source": [
        "from IPython.display import Image\n",
        "Image('mnist_result/loss.png')"
      ],
      "execution_count": 19,
      "outputs": [
        {
          "output_type": "execute_result",
          "data": {
            "image/png": "[encoded data removed]",
            "text/plain": [
              "<IPython.core.display.Image object>"
            ]
          },
          "metadata": {
            "tags": []
          },
          "execution_count": 19
        }
      ]
    },
    {
      "metadata": {
        "id": "n-p7ECwcHnGA",
        "colab_type": "code",
        "colab": {
          "autoexec": {
            "startup": false,
            "wait_interval": 0
          },
          "output_extras": [
            {
              "item_id": 1
            }
          ],
          "base_uri": "https://localhost:8080/",
          "height": 361
        },
        "outputId": "d6ebca58-5e95-44f5-dc24-4a2e113c0490",
        "executionInfo": {
          "status": "ok",
          "timestamp": 1519201953791,
          "user_tz": -540,
          "elapsed": 667,
          "user": {
            "displayName": "keisuke umezawa",
            "photoUrl": "//lh6.googleusercontent.com/-u6F5UlpmAEA/AAAAAAAAAAI/AAAAAAAAw70/15hRxmPvJeM/s50-c-k-no/photo.jpg",
            "userId": "103766488840000528829"
          }
        }
      },
      "cell_type": "code",
      "source": [
        "Image('mnist_result/accuracy.png')"
      ],
      "execution_count": 20,
      "outputs": [
        {
          "output_type": "execute_result",
          "data": {
            "image/png": "[encoded data removed]",
            "text/plain": [
              "<IPython.core.display.Image object>"
            ]
          },
          "metadata": {
            "tags": []
          },
          "execution_count": 20
        }
      ]
    }
  ]
}

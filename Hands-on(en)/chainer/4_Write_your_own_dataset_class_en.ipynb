{
  "nbformat": 4,
  "nbformat_minor": 0,
  "metadata": {
    "colab": {
      "name": "4-Write-your-own-dataset-class_en.ipynb",
      "version": "0.3.2",
      "views": {},
      "default_view": {},
      "provenance": [],
      "collapsed_sections": []
    },
    "kernelspec": {
      "name": "python3",
      "display_name": "Python 3"
    },
    "accelerator": "GPU"
  },
  "cells": [
    {
      "metadata": {
        "id": "EAuwuFFvuu1-",
        "colab_type": "text"
      },
      "cell_type": "markdown",
      "source": [
        "# How to write a custom dataset class\n",
        "\n",
        "A typical strategy to improve generalization in deep neural networks is to increase the number of training examples which allows more parameters to be used in the model. Even if the number of parameters is kept unchanged, increasing the number of training examples often improves generalization performance.\n",
        "\n",
        "Since it can be tedious and expensive to manually obtain and label additional training examples, a useful strategy is to consider methods for automatically increasing the size of a training set. Fortunately, for image datasets, there are several augmentation methods that have been found to work well in practice. They include:\n",
        "\n",
        "* Randomly cropping several slightly smaller images from the original training image.\n",
        "* Horizontally flipping the image.\n",
        "* Randomly rotating the image.\n",
        "* Applying various distortions and or noise to the images, etc.\n",
        "\n",
        "In this example, we will write a custom dataset class that performs the first two of these augmentation methods on the CIFAR10 dataset. We will then train our previous deep CNN and check that the generalization performance on the test set has in fact improved.\n",
        "\n",
        "We will create this dataset augmentation class as a subclass of `DatasetMixin`, which has the following API:\n",
        "\n",
        "- `__len__` method to return the size of data in dataset. \n",
        "- `get_example` method to return data or a tuple of data and label, which are passed by `i` argument variable. \n",
        "\n",
        "Other necessary features for a dataset can be prepared by inheriting `chainer.dataset.DasetMixin` class. "
      ]
    },
    {
      "metadata": {
        "id": "gtBmnmkTvpSw",
        "colab_type": "code",
        "colab": {
          "autoexec": {
            "startup": false,
            "wait_interval": 0
          },
          "output_extras": [
            {
              "item_id": 10
            }
          ],
          "base_uri": "https://localhost:8080/",
          "height": 343
        },
        "outputId": "5d57a992-1ebe-4831-c9ef-b3abb9c15677",
        "executionInfo": {
          "status": "ok",
          "timestamp": 1519373967070,
          "user_tz": -540,
          "elapsed": 8015,
          "user": {
            "displayName": "keisuke umezawa",
            "photoUrl": "//lh6.googleusercontent.com/-u6F5UlpmAEA/AAAAAAAAAAI/AAAAAAAAw70/15hRxmPvJeM/s50-c-k-no/photo.jpg",
            "userId": "103766488840000528829"
          }
        }
      },
      "cell_type": "code",
      "source": [
        "# Install Chainer and CuPy!\n",
        "\n",
        "!apt -y install libcusparse8.0 libnvrtc8.0 libnvtoolsext1\n",
        "!ln -snf /usr/lib/x86_64-linux-gnu/libnvrtc-builtins.so.8.0 /usr/lib/x86_64-linux-gnu/libnvrtc-builtins.so\n",
        "!pip install https://github.com/kmaehashi/chainer-colab/releases/download/2018-02-06/cupy_cuda80-4.0.0b3-cp36-cp36m-linux_x86_64.whl\n",
        "!pip install 'chainer==4.0.0b3'"
      ],
      "execution_count": 1,
      "outputs": [
        {
          "output_type": "stream",
          "text": [
            "Reading package lists... Done\n",
            "Building dependency tree       \n",
            "Reading state information... Done\n",
            "libcusparse8.0 is already the newest version (8.0.61-1).\n",
            "libnvrtc8.0 is already the newest version (8.0.61-1).\n",
            "libnvtoolsext1 is already the newest version (8.0.61-1).\n",
            "0 upgraded, 0 newly installed, 0 to remove and 1 not upgraded.\n",
            "Requirement already satisfied: cupy-cuda80==4.0.0b3 from https://github.com/kmaehashi/chainer-colab/releases/download/2018-02-06/cupy_cuda80-4.0.0b3-cp36-cp36m-linux_x86_64.whl in /usr/local/lib/python3.6/dist-packages\n",
            "Requirement already satisfied: six>=1.9.0 in /usr/local/lib/python3.6/dist-packages (from cupy-cuda80==4.0.0b3)\n",
            "Requirement already satisfied: fastrlock>=0.3 in /usr/local/lib/python3.6/dist-packages (from cupy-cuda80==4.0.0b3)\n",
            "Requirement already satisfied: numpy>=1.9.0 in /usr/local/lib/python3.6/dist-packages (from cupy-cuda80==4.0.0b3)\n",
            "Requirement already satisfied: chainer==4.0.0b3 in /usr/local/lib/python3.6/dist-packages\n",
            "Requirement already satisfied: protobuf>=3.0.0 in /usr/local/lib/python3.6/dist-packages (from chainer==4.0.0b3)\n",
            "Requirement already satisfied: filelock in /usr/local/lib/python3.6/dist-packages (from chainer==4.0.0b3)\n",
            "Requirement already satisfied: six>=1.9.0 in /usr/local/lib/python3.6/dist-packages (from chainer==4.0.0b3)\n",
            "Requirement already satisfied: numpy>=1.9.0 in /usr/local/lib/python3.6/dist-packages (from chainer==4.0.0b3)\n",
            "Requirement already satisfied: setuptools in /usr/lib/python3/dist-packages (from protobuf>=3.0.0->chainer==4.0.0b3)\n"
          ],
          "name": "stdout"
        }
      ]
    },
    {
      "metadata": {
        "id": "1jzb2uViuu1_",
        "colab_type": "text"
      },
      "cell_type": "markdown",
      "source": [
        "## 1. Write the dataset augmentation class for CIFAR10"
      ]
    },
    {
      "metadata": {
        "id": "io8db0-puu1_",
        "colab_type": "code",
        "colab": {
          "autoexec": {
            "startup": false,
            "wait_interval": 0
          },
          "output_extras": [
            {
              "item_id": 1
            }
          ],
          "base_uri": "https://localhost:8080/",
          "height": 73
        },
        "outputId": "8cbaaffa-3691-4f73-9cf7-64e835ec0b08",
        "executionInfo": {
          "status": "ok",
          "timestamp": 1519373967882,
          "user_tz": -540,
          "elapsed": 799,
          "user": {
            "displayName": "keisuke umezawa",
            "photoUrl": "//lh6.googleusercontent.com/-u6F5UlpmAEA/AAAAAAAAAAI/AAAAAAAAw70/15hRxmPvJeM/s50-c-k-no/photo.jpg",
            "userId": "103766488840000528829"
          }
        }
      },
      "cell_type": "code",
      "source": [
        "import numpy as np\n",
        "from chainer import dataset\n",
        "from chainer.datasets import cifar\n",
        "\n",
        "gpu_id = 0  # Set to -1 if you don't have a GPU\n",
        "\n",
        "class CIFAR10Augmented(dataset.DatasetMixin):\n",
        "\n",
        "    def __init__(self, train=True):\n",
        "        train_data, test_data = cifar.get_cifar10()\n",
        "        if train:\n",
        "            self.data = train_data\n",
        "        else:\n",
        "            self.data = test_data\n",
        "        self.train = train\n",
        "        self.random_crop = 4\n",
        "\n",
        "    def __len__(self):\n",
        "        return len(self.data)\n",
        "\n",
        "    def get_example(self, i):\n",
        "        x, t = self.data[i]\n",
        "        if self.train:\n",
        "            x = x.transpose(1, 2, 0)\n",
        "            h, w, _ = x.shape\n",
        "            x_offset = np.random.randint(self.random_crop)\n",
        "            y_offset = np.random.randint(self.random_crop)\n",
        "            x = x[y_offset:y_offset + h - self.random_crop,\n",
        "                  x_offset:x_offset + w - self.random_crop]\n",
        "            if np.random.rand() > 0.5:\n",
        "                x = np.fliplr(x)\n",
        "            x = x.transpose(2, 0, 1)\n",
        "        return x, t"
      ],
      "execution_count": 2,
      "outputs": [
        {
          "output_type": "stream",
          "text": [
            "/usr/local/lib/python3.6/dist-packages/cupy/core/fusion.py:659: FutureWarning: cupy.core.fusion is experimental. The interface can change in the future.\n",
            "  util.experimental('cupy.core.fusion')\n"
          ],
          "name": "stderr"
        }
      ]
    },
    {
      "metadata": {
        "id": "gccb50swuu2C",
        "colab_type": "text"
      },
      "cell_type": "markdown",
      "source": [
        "This class performs the following types of data augmentation on the CIFAR10 example images:\n",
        "\n",
        "- Randomly crop a 28X28 area form the 32X32 whole image data.\n",
        "- Randomly perform a horizontal flip with 0.5 probability. \n"
      ]
    },
    {
      "metadata": {
        "id": "IDAqTX1muu2D",
        "colab_type": "text"
      },
      "cell_type": "markdown",
      "source": [
        "## 2. Train on the CIFAR10 dataset using our dataset augmentation class\n",
        "\n",
        "Let's now train the same deep CNN from the previous example. The only difference is that we will now use our dataset augmentation class. Since we reuse the same model with the same number of parameters, we can observe how much the augmentation improves the test set generalization performance."
      ]
    },
    {
      "metadata": {
        "id": "sn7pQv1Ouu2D",
        "colab_type": "code",
        "colab": {
          "autoexec": {
            "startup": false,
            "wait_interval": 0
          },
          "output_extras": [
            {
              "item_id": 31
            }
          ],
          "base_uri": "https://localhost:8080/",
          "height": 595
        },
        "outputId": "1be2e22e-795e-4573-97ba-0db11c3afe36",
        "executionInfo": {
          "status": "ok",
          "timestamp": 1519376202525,
          "user_tz": -540,
          "elapsed": 2234540,
          "user": {
            "displayName": "keisuke umezawa",
            "photoUrl": "//lh6.googleusercontent.com/-u6F5UlpmAEA/AAAAAAAAAAI/AAAAAAAAw70/15hRxmPvJeM/s50-c-k-no/photo.jpg",
            "userId": "103766488840000528829"
          }
        }
      },
      "cell_type": "code",
      "source": [
        "import chainer\n",
        "import chainer.functions as F\n",
        "import chainer.links as L\n",
        "from chainer.datasets import cifar\n",
        "from chainer import iterators\n",
        "from chainer import optimizers\n",
        "from chainer import training\n",
        "from chainer.training import extensions\n",
        "\n",
        "class ConvBlock(chainer.Chain):\n",
        "    \n",
        "    def __init__(self, n_ch, pool_drop=False):\n",
        "        w = chainer.initializers.HeNormal()\n",
        "        super(ConvBlock, self).__init__()\n",
        "        with self.init_scope():\n",
        "            self.conv = L.Convolution2D(None, n_ch, 3, 1, 1,\n",
        "                                 nobias=True, initialW=w)\n",
        "            self.bn = L.BatchNormalization(n_ch)\n",
        "        \n",
        "        \n",
        "        self.pool_drop = pool_drop\n",
        "        \n",
        "    def __call__(self, x):\n",
        "        h = F.relu(self.bn(self.conv(x)))\n",
        "        if self.pool_drop:\n",
        "            h = F.max_pooling_2d(h, 2, 2)\n",
        "            h = F.dropout(h, ratio=0.25)\n",
        "        return h\n",
        "\n",
        "class LinearBlock(chainer.Chain):\n",
        "    \n",
        "    def __init__(self):\n",
        "        w = chainer.initializers.HeNormal()\n",
        "        super(LinearBlock, self).__init__()\n",
        "        with self.init_scope():\n",
        "            self.fc = L.Linear(None, 1024, initialW=w)\n",
        "        \n",
        "    def __call__(self, x):\n",
        "        return F.dropout(F.relu(self.fc(x)), ratio=0.5)\n",
        "    \n",
        "class DeepCNN(chainer.ChainList):\n",
        "\n",
        "    def __init__(self, n_output):\n",
        "        super(DeepCNN, self).__init__(\n",
        "            ConvBlock(64),\n",
        "            ConvBlock(64, True),\n",
        "            ConvBlock(128),\n",
        "            ConvBlock(128, True),\n",
        "            ConvBlock(256),\n",
        "            ConvBlock(256, True),\n",
        "            LinearBlock(),\n",
        "            LinearBlock(),\n",
        "            L.Linear(None, n_output)\n",
        "        )\n",
        "        \n",
        "    def __call__(self, x):\n",
        "        for f in self.children():\n",
        "            x = f(x)\n",
        "        return x\n",
        "\n",
        "def train(model_object, batchsize=64, gpu_id=gpu_id, max_epoch=20):\n",
        "\n",
        "    # 1. Dataset\n",
        "    train, test = CIFAR10Augmented(), CIFAR10Augmented(False)\n",
        "\n",
        "    # 2. Iterator\n",
        "    train_iter = iterators.SerialIterator(train, batchsize)\n",
        "    test_iter = iterators.SerialIterator(test, batchsize, False, False)\n",
        "\n",
        "    # 3. Model\n",
        "    model = L.Classifier(model_object)\n",
        "    if gpu_id >= 0:\n",
        "            model.to_gpu(gpu_id)\n",
        "\n",
        "    # 4. Optimizer\n",
        "    optimizer = optimizers.Adam()\n",
        "    optimizer.setup(model)\n",
        "\n",
        "    # 5. Updater\n",
        "    updater = training.StandardUpdater(train_iter, optimizer, device=gpu_id)\n",
        "\n",
        "    # 6. Trainer\n",
        "    trainer = training.Trainer(updater, (max_epoch, 'epoch'), out='{}_cifar10augmented_result'.format(model_object.__class__.__name__))\n",
        "\n",
        "    # 7. Evaluator\n",
        "\n",
        "    class TestModeEvaluator(extensions.Evaluator):\n",
        "\n",
        "        def evaluate(self):\n",
        "            model = self.get_target('main')\n",
        "            ret = super(TestModeEvaluator, self).evaluate()\n",
        "            return ret\n",
        "\n",
        "    trainer.extend(extensions.LogReport())\n",
        "    trainer.extend(TestModeEvaluator(test_iter, model, device=gpu_id))\n",
        "    trainer.extend(extensions.PrintReport(['epoch', 'main/loss', 'main/accuracy', 'validation/main/loss', 'validation/main/accuracy', 'elapsed_time']))\n",
        "    trainer.extend(extensions.PlotReport(['main/loss', 'validation/main/loss'], x_key='epoch', file_name='loss.png'))\n",
        "    trainer.extend(extensions.PlotReport(['main/accuracy', 'validation/main/accuracy'], x_key='epoch', file_name='accuracy.png'))\n",
        "    trainer.run()\n",
        "    del trainer\n",
        "    \n",
        "    return model\n",
        "    \n",
        "model = train(DeepCNN(10), gpu_id=gpu_id, max_epoch=30)"
      ],
      "execution_count": 3,
      "outputs": [
        {
          "output_type": "stream",
          "text": [
            "epoch       main/loss   main/accuracy  validation/main/loss  validation/main/accuracy  elapsed_time\n",
            "\u001b[J1           1.92407     0.299832       1.47721               0.43959                   85.7994       \n",
            "\u001b[J2           1.46391     0.460767       1.37372               0.510947                  170.782       \n",
            "\u001b[J3           1.24698     0.555558       1.19284               0.613953                  255.058       \n",
            "\u001b[J4           1.09747     0.613997       0.987924              0.68133                   339.642       \n",
            "\u001b[J5           0.987182    0.655391       0.935555              0.69586                   424.341       \n",
            "\u001b[J6           0.898338    0.690401       0.839072              0.722034                  509.142       \n",
            "\u001b[J7           0.81304     0.725192       0.747639              0.764033                  593.771       \n",
            "\u001b[J8           0.738109    0.753441       0.681274              0.77906                   678.347       \n",
            "\u001b[J9           0.672411    0.776235       0.60375               0.805633                  762.626       \n",
            "\u001b[J10          0.617099    0.793834       0.527143              0.827926                  846.95        \n",
            "\u001b[J11          0.575074    0.810059       0.489332              0.832803                  931.496       \n",
            "\u001b[J12          0.538337    0.820563       0.539499              0.822154                  1016.05       \n",
            "\u001b[J13          0.509321    0.832021       0.474118              0.840764                  1101.08       \n",
            "\u001b[J14          0.487421    0.837628       0.452331              0.848129                  1185.79       \n",
            "\u001b[J15          0.462403    0.846771       0.422598              0.860072                  1270.2        \n",
            "\u001b[J16          0.442934    0.852153       0.394928              0.868929                  1354.51       \n",
            "\u001b[J17          0.421746    0.858516       0.404235              0.87092                   1438.79       \n",
            "\u001b[J18          0.407674    0.862756       0.395771              0.867237                  1523.3        \n",
            "\u001b[J19          0.39542     0.868938       0.396354              0.877687                  1607.85       \n",
            "\u001b[J20          0.383477    0.871999       0.37822               0.877488                  1692.17       \n",
            "\u001b[J21          0.371322    0.876399       0.388828              0.87281                   1777.04       \n",
            "\u001b[J22          0.36101     0.878861       0.369287              0.880573                  1861.17       \n",
            "\u001b[J23          0.353587    0.882282       0.422225              0.863953                  1936.13       \n",
            "\u001b[J24          0.344247    0.883963       0.366904              0.882066                  1977.98       \n",
            "\u001b[J25          0.335103    0.888387       0.370403              0.883161                  2019.74       \n",
            "\u001b[J26          0.322226    0.893086       0.353938              0.88545                   2061.59       \n",
            "\u001b[J27          0.323977    0.892626       0.44101               0.860072                  2103.4        \n",
            "\u001b[J28          0.315712    0.895146       0.344539              0.892815                  2145.16       \n",
            "\u001b[J29          0.303662    0.898777       0.385994              0.88754                   2187.08       \n",
            "\u001b[J30          0.29911     0.900448       0.397462              0.880573                  2228.82       \n"
          ],
          "name": "stdout"
        }
      ]
    },
    {
      "metadata": {
        "id": "sFRRyg2buu2H",
        "colab_type": "text"
      },
      "cell_type": "markdown",
      "source": [
        "In the case without the previous data augmentation, it was found that the precision which was capped at about 87% can be improved to 89% or more by applying augmentation to the learning data. It is an improvement of over 2%.\n",
        "\n",
        "Finally, let's take a look at the loss and precision graph."
      ]
    },
    {
      "metadata": {
        "id": "cxgOhvG9uu2I",
        "colab_type": "code",
        "colab": {
          "autoexec": {
            "startup": false,
            "wait_interval": 0
          },
          "output_extras": [
            {
              "item_id": 1
            }
          ],
          "base_uri": "https://localhost:8080/",
          "height": 384
        },
        "outputId": "38362009-99e2-4da8-8feb-aec1f6b3d70e",
        "executionInfo": {
          "status": "ok",
          "timestamp": 1519376203469,
          "user_tz": -540,
          "elapsed": 897,
          "user": {
            "displayName": "keisuke umezawa",
            "photoUrl": "//lh6.googleusercontent.com/-u6F5UlpmAEA/AAAAAAAAAAI/AAAAAAAAw70/15hRxmPvJeM/s50-c-k-no/photo.jpg",
            "userId": "103766488840000528829"
          }
        }
      },
      "cell_type": "code",
      "source": [
        "from IPython.display import Image\n",
        "Image(filename='DeepCNN_cifar10augmented_result/loss.png')"
      ],
      "execution_count": 4,
      "outputs": [
        {
          "output_type": "execute_result",
          "data": {
            "image/png": "[encoded data removed]",
            "text/plain": [
              "<IPython.core.display.Image object>"
            ]
          },
          "metadata": {
            "tags": []
          },
          "execution_count": 4
        }
      ]
    },
    {
      "metadata": {
        "id": "Nif8BZqWuu2K",
        "colab_type": "code",
        "colab": {
          "autoexec": {
            "startup": false,
            "wait_interval": 0
          },
          "output_extras": [
            {
              "item_id": 1
            }
          ],
          "base_uri": "https://localhost:8080/",
          "height": 381
        },
        "outputId": "d63d96a2-6308-4e15-89e7-a28ee2f1eb9e",
        "executionInfo": {
          "status": "ok",
          "timestamp": 1519376204130,
          "user_tz": -540,
          "elapsed": 559,
          "user": {
            "displayName": "keisuke umezawa",
            "photoUrl": "//lh6.googleusercontent.com/-u6F5UlpmAEA/AAAAAAAAAAI/AAAAAAAAw70/15hRxmPvJeM/s50-c-k-no/photo.jpg",
            "userId": "103766488840000528829"
          }
        }
      },
      "cell_type": "code",
      "source": [
        "Image(filename='DeepCNN_cifar10augmented_result/accuracy.png')"
      ],
      "execution_count": 5,
      "outputs": [
        {
          "output_type": "execute_result",
          "data": {
            "image/png": "[encoded data removed]",
            "text/plain": [
              "<IPython.core.display.Image object>"
            ]
          },
          "metadata": {
            "tags": []
          },
          "execution_count": 5
        }
      ]
    }
  ]
}